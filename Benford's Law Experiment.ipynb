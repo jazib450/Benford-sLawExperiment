{
 "cells": [
  {
   "cell_type": "markdown",
   "metadata": {},
   "source": [
    "## Libraries"
   ]
  },
  {
   "cell_type": "code",
   "execution_count": 1,
   "metadata": {},
   "outputs": [],
   "source": [
    "import math\n",
    "from random import seed\n",
    "from random import randint\n",
    "import numpy as np\n",
    "import collections\n",
    "import matplotlib.pyplot as plt\n",
    "from matplotlib.animation import FuncAnimation\n",
    "from IPython import display"
   ]
  },
  {
   "cell_type": "markdown",
   "metadata": {},
   "source": [
    "## Introduction\n",
    "\n",
    "What is Benford's law? It says that the first digit in some (actually, a lot) of the real life random distributions is more frequently smaller numbers. Specifically:\n",
    "\n",
    "P(1) = 0.301<br>\n",
    "P(2) = 0.176<br>\n",
    "P(3) = 0.125<br>\n",
    "P(4) = 0.097<br>\n",
    "P(5) = 0.079<br>\n",
    "P(6) = 0.067<br>\n",
    "P(7) = 0.058<br>\n",
    "P(8) = 0.051<br>\n",
    "P(9) = 0.046<br>\n",
    "\n",
    "It has many applications, including detecting fraud!"
   ]
  },
  {
   "cell_type": "code",
   "execution_count": 2,
   "metadata": {},
   "outputs": [
    {
     "data": {
      "text/plain": [
       "Text(0.5, 1.0, \"Benford's Law\")"
      ]
     },
     "execution_count": 2,
     "metadata": {},
     "output_type": "execute_result"
    },
    {
     "data": {
      "image/png": "[encoded data removed]",
      "text/plain": [
       "<Figure size 432x288 with 1 Axes>"
      ]
     },
     "metadata": {
      "needs_background": "light"
     },
     "output_type": "display_data"
    }
   ],
   "source": [
    "# Let's start by plotting what this looks like\n",
    "fig0, ax0 = plt.subplots()\n",
    "\n",
    "digitsBenford = list(range(1, 10))\n",
    "digitsPercentsBenford = [30.1, 17.6, 12.5, 9.7, 7.9, 6.7, 5.8, 5.1, 4.6]\n",
    "ax0.bar(digitsBenford, digitsPercentsBenford)\n",
    "\n",
    "ax0.set_xlabel('Digits (1-9)')\n",
    "ax0.set_ylabel('Percent of Total (%)')\n",
    "ax0.set_title('Benford\\'s Law')"
   ]
  },
  {
   "cell_type": "markdown",
   "metadata": {},
   "source": [
    "## Experiment"
   ]
  },
  {
   "cell_type": "markdown",
   "metadata": {},
   "source": [
    "**Part 1: Random Numbers**"
   ]
  },
  {
   "cell_type": "code",
   "execution_count": 3,
   "metadata": {},
   "outputs": [],
   "source": [
    "N = 100000 # The number of random numbers\n",
    "maxNumber = 999 # The random numbers will be in the range of 1 to maxNumber"
   ]
  },
  {
   "cell_type": "code",
   "execution_count": 4,
   "metadata": {},
   "outputs": [],
   "source": [
    "# seed random number generator\n",
    "seed(1)\n",
    "firstDigitsList = []\n",
    "\n",
    "# generate some integers\n",
    "for i in range(N):\n",
    "    value = randint(1, maxNumber)\n",
    "    firstDigitsList.append(int(str(value)[0]))\n"
   ]
  },
  {
   "cell_type": "code",
   "execution_count": 5,
   "metadata": {},
   "outputs": [
    {
     "name": "stdout",
     "output_type": "stream",
     "text": [
      "Counter({4: 11239, 9: 11227, 5: 11196, 3: 11155, 1: 11137, 2: 11109, 8: 11027, 6: 10966, 7: 10944})\n"
     ]
    }
   ],
   "source": [
    "# Count the first digits\n",
    "counter=collections.Counter(firstDigitsList)\n",
    "print(counter)"
   ]
  },
  {
   "cell_type": "code",
   "execution_count": 6,
   "metadata": {},
   "outputs": [
    {
     "data": {
      "text/plain": [
       "Text(0.5, 1.0, 'First Digits of Random Numbers')"
      ]
     },
     "execution_count": 6,
     "metadata": {},
     "output_type": "execute_result"
    },
    {
     "data": {
      "image/png": "[encoded data removed]",
      "text/plain": [
       "<Figure size 432x288 with 1 Axes>"
      ]
     },
     "metadata": {
      "needs_background": "light"
     },
     "output_type": "display_data"
    }
   ],
   "source": [
    "# Plot their frequency\n",
    "fig1, ax1 = plt.subplots()\n",
    "\n",
    "digits = np.array(list(counter.keys()))\n",
    "digitCounts = np.array(list(counter.values()))\n",
    "digitsPercents = digitCounts/N * 100\n",
    "\n",
    "ax1.bar(digits, digitsPercents)\n",
    "\n",
    "ax1.set_xlabel('Digits (1-9)')\n",
    "ax1.set_ylabel('Percent of Total (%)')\n",
    "ax1.set_title('First Digits of Random Numbers')"
   ]
  },
  {
   "cell_type": "markdown",
   "metadata": {},
   "source": [
    "This does not obey benford's law. All digits seem equal likely to be the first digit in this random distribution."
   ]
  },
  {
   "cell_type": "markdown",
   "metadata": {},
   "source": [
    "**Part 2: Random Numbers Raised to an Exponent**"
   ]
  },
  {
   "cell_type": "code",
   "execution_count": 7,
   "metadata": {},
   "outputs": [],
   "source": [
    "N = 100000 # The number of random numbers\n",
    "maxNumber = 999 # The random numbers will be in the range of 1 to maxNumber\n",
    "exponent = 10 # The exponent to raise them to"
   ]
  },
  {
   "cell_type": "code",
   "execution_count": 8,
   "metadata": {},
   "outputs": [],
   "source": [
    "# seed random number generator\n",
    "seed(1)\n",
    "firstDigitsList = []\n",
    "\n",
    "# generate some integers and raise them to the exponent\n",
    "for i in range(N):\n",
    "    value = randint(1, maxNumber)\n",
    "    value = value**exponent\n",
    "    firstDigitsList.append(int(str(value)[0]))"
   ]
  },
  {
   "cell_type": "code",
   "execution_count": 9,
   "metadata": {},
   "outputs": [
    {
     "name": "stdout",
     "output_type": "stream",
     "text": [
      "Counter({1: 27670, 2: 17530, 3: 12443, 4: 9910, 5: 8243, 6: 7336, 7: 6214, 8: 5343, 9: 5311})\n"
     ]
    }
   ],
   "source": [
    "# count the first digits\n",
    "counter=collections.Counter(firstDigitsList)\n",
    "print(counter)"
   ]
  },
  {
   "cell_type": "code",
   "execution_count": 10,
   "metadata": {
    "scrolled": false
   },
   "outputs": [
    {
     "data": {
      "text/plain": [
       "<matplotlib.legend.Legend at 0x1f84ee240f0>"
      ]
     },
     "execution_count": 10,
     "metadata": {},
     "output_type": "execute_result"
    },
    {
     "data": {
      "image/png": "[encoded data removed]",
      "text/plain": [
       "<Figure size 432x288 with 1 Axes>"
      ]
     },
     "metadata": {
      "needs_background": "light"
     },
     "output_type": "display_data"
    }
   ],
   "source": [
    "# Plot their frequency\n",
    "fig2, ax2 = plt.subplots()\n",
    "\n",
    "digits = np.array(list(counter.keys()))\n",
    "digitCounts = np.array(list(counter.values()))\n",
    "digitsPercents = digitCounts/N * 100\n",
    "\n",
    "ax2.bar(digits, digitsPercents, label=f'Exponent={exponent}')\n",
    "ax2.plot(digitsBenford, digitsPercentsBenford, color='red', label='Predicted')\n",
    "\n",
    "ax2.set_xlabel('Digits (1-9)')\n",
    "ax2.set_ylabel('Percent of Total (%)')\n",
    "ax2.set_title('First Digits of Random Numbers Raised to an Exponent')\n",
    "ax2.legend()"
   ]
  },
  {
   "cell_type": "markdown",
   "metadata": {},
   "source": [
    "This obeys Benford's law. Cool! Let's animate this with more exponents."
   ]
  },
  {
   "cell_type": "code",
   "execution_count": 11,
   "metadata": {},
   "outputs": [],
   "source": [
    "# sort X based on values in Y\n",
    "def sortedLists(X, Y):\n",
    "    return [x for _,x in sorted(zip(Y,X))]"
   ]
  },
  {
   "cell_type": "code",
   "execution_count": 12,
   "metadata": {},
   "outputs": [],
   "source": [
    "# function to update the frame of the bar plot in the animation\n",
    "def animate(frame):\n",
    "\n",
    "    exponent = frame\n",
    "    \n",
    "    # seed random number generator\n",
    "    seed(1)\n",
    "    firstDigitsList = []\n",
    "\n",
    "    # generate some integers and raise them to the exponent\n",
    "    for i in range(N):\n",
    "        value = randint(1, maxNumber)\n",
    "        value = value**exponent\n",
    "        firstDigitsList.append(int(str(value)[0]))\n",
    "\n",
    "    # Count the first digits\n",
    "    counter=collections.Counter(firstDigitsList)\n",
    "    \n",
    "    digits = np.array(list(counter.keys()))\n",
    "    digitCounts = np.array(list(counter.values()))\n",
    "    digitsPercents = digitCounts/N * 100\n",
    "    \n",
    "    # need to have them sorted so they are all int the same order\n",
    "    digitsPercents = sortedLists(digitsPercents, digits)\n",
    "    \n",
    "    # update each bar\n",
    "    for i, digitPercent in enumerate(digitsPercents):\n",
    "        barPlot[i].set_height(digitPercent)\n",
    "    \n",
    "    barPlot.set_label('Exponent='+str(exponent))\n",
    "    ax3.legend()\n",
    "\n",
    "    return barPlot"
   ]
  },
  {
   "cell_type": "code",
   "execution_count": 13,
   "metadata": {},
   "outputs": [],
   "source": [
    "N = 100000 # The number of random numbers\n",
    "maxNumber = 999 # The random numbers will be in the range of 1 to maxNumber\n",
    "exponent = 10 # The exponent to raise them to\n",
    "numFrames = 15"
   ]
  },
  {
   "cell_type": "code",
   "execution_count": 14,
   "metadata": {},
   "outputs": [],
   "source": [
    "# seed random number generator\n",
    "seed(1)\n",
    "firstDigitsList = []\n",
    "\n",
    "# generate some integers and raise them to the exponent\n",
    "for i in range(N):\n",
    "    value = randint(1, maxNumber)\n",
    "    value = value**exponent\n",
    "    firstDigitsList.append(int(str(value)[0]))"
   ]
  },
  {
   "cell_type": "code",
   "execution_count": 15,
   "metadata": {},
   "outputs": [
    {
     "name": "stdout",
     "output_type": "stream",
     "text": [
      "Counter({1: 27670, 2: 17530, 3: 12443, 4: 9910, 5: 8243, 6: 7336, 7: 6214, 8: 5343, 9: 5311})\n"
     ]
    }
   ],
   "source": [
    "# count the first digits\n",
    "counter=collections.Counter(firstDigitsList)\n",
    "print(counter)"
   ]
  },
  {
   "cell_type": "code",
   "execution_count": 16,
   "metadata": {},
   "outputs": [
    {
     "data": {
      "text/html": [
       "<video width=\"432\" height=\"288\" controls autoplay loop>\n",
       "  <source type=\"video/mp4\" src=\"data:video/mp4;base64,AAAAHGZ0eXBNNFYgAAACAGlzb21pc28yYXZjMQAAAAhmcmVlAABLRW1kYXQAAAKtBgX//6ncRem9\n",
       "5tlIt5Ys2CDZI+7veDI2NCAtIGNvcmUgMTU3IHIyOTcwIDU0OTNiZTggLSBILjI2NC9NUEVHLTQg\n",
       "QVZDIGNvZGVjIC0gQ29weWxlZnQgMjAwMy0yMDE5IC0gaHR0cDovL3d3dy52aWRlb2xhbi5vcmcv\n",
       "eDI2NC5odG1sIC0gb3B0aW9uczogY2FiYWM9MSByZWY9MyBkZWJsb2NrPTE6MDowIGFuYWx5c2U9\n",
       "MHgzOjB4MTEzIG1lPWhleCBzdWJtZT03IHBzeT0xIHBzeV9yZD0xLjAwOjAuMDAgbWl4ZWRfcmVm\n",
       "PTEgbWVfcmFuZ2U9MTYgY2hyb21hX21lPTEgdHJlbGxpcz0xIDh4OGRjdD0xIGNxbT0wIGRlYWR6\n",
       "b25lPTIxLDExIGZhc3RfcHNraXA9MSBjaHJvbWFfcXBfb2Zmc2V0PS0yIHRocmVhZHM9OSBsb29r\n",
       "YWhlYWRfdGhyZWFkcz0xIHNsaWNlZF90aHJlYWRzPTAgbnI9MCBkZWNpbWF0ZT0xIGludGVybGFj\n",
       "ZWQ9MCBibHVyYXlfY29tcGF0PTAgY29uc3RyYWluZWRfaW50cmE9MCBiZnJhbWVzPTMgYl9weXJh\n",
       "bWlkPTIgYl9hZGFwdD0xIGJfYmlhcz0wIGRpcmVjdD0xIHdlaWdodGI9MSBvcGVuX2dvcD0wIHdl\n",
       "aWdodHA9MiBrZXlpbnQ9MjUwIGtleWludF9taW49MiBzY2VuZWN1dD00MCBpbnRyYV9yZWZyZXNo\n",
       "PTAgcmNfbG9va2FoZWFkPTQwIHJjPWNyZiBtYnRyZWU9MSBjcmY9MjMuMCBxY29tcD0wLjYwIHFw\n",
       "bWluPTAgcXBtYXg9NjkgcXBzdGVwPTQgaXBfcmF0aW89MS40MCBhcT0xOjEuMDAAgAAAJ+RliIQA\n",
       "Fv/+99M/zLLr9zm146j3op4mX0N1JQGblsTtOoAAAAMABnbl08X4sE212YgCmQ2gu0z46GqG9T8z\n",
       "xpCcznpW7dC1W+/V5FpFL7O5O0cCTvy+f+l0YfkTm00+CufXmN5yW90fa/q85MTPopqdjAgKemA5\n",
       "W+wtp1bcowhHyjCNKtBYfJ7bzj2K9o393T3Xeii+omhdFT10zdZILORqGguMd87fy9SYi5kxunPK\n",
       "um1tsxhW7/QFmA1E4uqsG2p6AL7YApmFZo+5brCPwDPKStuLvq1pL/Id/FHsqNLqn29JKsiNqCiP\n",
       "T9gqWwbJ3oeQ+4ZhYKuY3tGiCSO+L8A3NJYCbjhpsNqKO/Ss02DhpvfzCdQRWndwlAAuf+ZJL/+2\n",
       "9aefHC7N0HnDU93rNsgMDrjmZoNqwNZk1stbZiQMmVH+IG+chaa2ZxXOP6wCLc4zKXzV+gnlZySP\n",
       "Ms8soBSeY6s1MBJelNse1UILG2QYF/DOp9jSRTsuRQwmY2K/1jV4JZlYnxntSxfxZtX/eVTVVX9l\n",
       "pUsFlKYivRkg3AFFbmvm26lXQ4D6xLnIGH73ACBy9lOVSIkv8SrtUpiSQzxo+oPVzsQqKrBqpk9e\n",
       "5d+dI7luQT+2FWdAF+BqaRa72bXpUbUIB3fH9RlMo6vB6fzNUzOTNUfZfVa8YqgIlsui5dI0YZSL\n",
       "cX667dfIHP6Cuv6PqQnEV3rVxpjolkX+N8Uxiz5KoxR872cnzbVgiK/7c75TaviwEKcl1Ye6+OuR\n",
       "fWT24bu/VdUmAUyUkjhjCdoX9VIobC9bbBuhosKSzZgiJ/VpB3eBkfTKUz+ATAYcys6y4bQZ3U2t\n",
       "bFLXp8PFxB2+pEasQJMRKG2iYzfvPScE7h/TElqLJTgKL74BX098zoFgQN5XqluoxSxYQ/KKWoyB\n",
       "nsn7Prc7VqheY/dSaRrHUsK1zIRnZYF4ETQDakxeHnloqzeuhogaW4tZZOB/hiTHKnWEzUGaZ24C\n",
       "mXJ1rjZQ6MmSAwFMJoHvbOs36nMmZLnf3u6h7WfTev1tgjy2nbslxPw0SiTsAf5+T2PpksNzrMiF\n",
       "rDLH7uPt8rBcHVreBgZdpWb3qriEkgZ5Sr+NUusT1ikldJSRTWc4uDLYC0L/G0gtUENSCARx+IHN\n",
       "5mhCd8wLBlfpITobya8ysD6WRJlRGpkbh4vIJSYCh++conEcGlnJfriq2IWYmfFIn5lFjPzjtF/l\n",
       "CV3IWSaquLzHa5Qc22XEL98vpqN8Ij4RrbGbPcoSV4B6GnezySYVOtbspqZ46rQFJt6EJCQWo86R\n",
       "2GpNG/Byl6o+DOlEU3tFMNv/eRMad10mL0ACFOIn+jPA2wW/PCZ4TY2EFcrAYLNI4P7H+xF8HOVo\n",
       "Wn+Tsxx8CrMgIXVjhQHrPSq7+pzyJwSa/h+7WO4k484nW/ALPPrJ/ff4BlIffLuOAOxb9e/zeXqA\n",
       "W32xuUyDcjJIJadpSlTCenoUw96qCzQZB/SqAj0GJUAIjhGANYu7OXp9njU4JlNTKoQGB04gmeYD\n",
       "1UfYyidp/WZBBE8kED8l0q0z3MjXymdi/1QmdAZgrY0FErkDh6ANGfQhEVL2VPI+cv62TDocqVlK\n",
       "6p6OF1wTWTPejCdgM4I99yrumgfaLVruKusVjz6L5Avv2o89GIMVe9NjRHGO8rIIYlgQQKY/OA7R\n",
       "y6d+B6GSMGofO+jhmW3DfmJK7X4yjnNoRAprSv1ZPdTw4TVXyL3mIlGEzbBne5qr7+e0qUKZC9fa\n",
       "LuShuCXStm6TpSCev2CrLjFyrUq69H7QXlf4/pLpifAT7OjHjCqPr9JQSuFRkJWd6YPUWwx0tWCd\n",
       "JTGgSC1PU2XXW2LOqxlTI+2VPpCZ4AhXT/UrV+RTRgo8ZlSO/IKaMLCHNz4Km8KpZTRINuzFIPT2\n",
       "Xn3MeHeHwim388t/mozJZkOutkF7Crhc6/McC4dGPPhg3oobdsASteSZDCmbvZhHwGkQ9DP67rbe\n",
       "n6E83NwJeKEkCedCeaH8RA9JhFXGI3vcfjRsbPdoHkR+q59NevaVq+3fNF+KpLfjWL4J90rSr0NX\n",
       "e9nSKmN3SSedVEGm/4AOqey+4HHn4v8u14NQvS6ctWxCiBqacz+nwi9Ws79Ie++lV6EiK2Aj7rOd\n",
       "oVMlDzeYiCD3lHiawn67/tEN6a3yJV5zZZK2fuwHk5QsXA0KjFsqCoHyc03vOLMwf+5ITMDaRfqs\n",
       "6WJVemuSFSYlRByPm7gatiDvWSXZ9Cs8ZcfanUbW4/nuZoNKlcl5yRYxDKrUylOOTGcnhRRcK8Me\n",
       "ZXutgLlt8xSZJVVyBA568yY72XKqXLHj0C+nb8sxGnWBa+znnzL6eTsDVshBYbsvkYvCM8Xb8DUV\n",
       "RDaQdRkDwe/5a0AMYVMdxTiBzlb+lkandMMoZb7DVkXLrDcutZ3htel3oTcJfK4cNuynFFXA2YcV\n",
       "YfW9Zak6O1i+urVefT+R56sEHiJ4Z0Ic7J56dWUOLyzXYnW6iJkfVuUI9e+id4mYqUdbZBr1QzOf\n",
       "adktffHv9gF5Flin4s9nFH7NhZdcpd0E6U+V50vZRxmnhMKbXxB+5jTCCTEw9psdvGnoIYJyYHDf\n",
       "gL20LWjwXYzWDCl/lV5f6ytCtjpM/YTt7mPExxd1rnS4WuCbWFEJZfftYBBDGmAd/mCZsRaziI9t\n",
       "zbgyiiZCKa+oPQ807fYRzG4cxSsHVQu+20+fn805O+wRsUveHhkz07N1C6St9lDuWXPJc2JJwiPI\n",
       "6JPrthrx772rsV7K6tfaTEcns2lzVyPv8kG5sLuTQLiLnNV364qBrJXjdVZV2kkXJgPQLd/tU7PQ\n",
       "C0eQ2tlTLIm24FQ32mDllKfbpb+EERGy7yKekyC3cuFnrEuFNNkK4C8wiREMXT409Sti6beIc8yM\n",
       "wr9E9/H5uhZmMwiv5VwIB+/GNUx7Z3t3VF7cPpDRjn+DbrLEmhr4L52UwTUK9YgcHRIh77Npuout\n",
       "r6AIVZtafbWiH8QEwr2Zms/cHPOhMa2J2yr5VcfUl3Gvyn1c8ym2enUqpvMA4SE/3p3vhZg0Y2VK\n",
       "M8jwToeRKZQaCstrq2VgzPU4N7AkEXfW2MGlcC01t/jjk5XPxQcwjy06jh9gFKkB//sEEoWRofHZ\n",
       "mRTQ/tVgYgtRP3MD8j3JcV3nsmfVDYwyv7B5r7xb9EUKYoj/+EZyEsTrOgkYJoPBGCPpF2aYxuRg\n",
       "6cRYHX/tGQzv0v+PLBuf9aF/70TBQqNZAFtyEQ/baEeJzQMkAENGFpvhLTDLwyfVpEbSfzazBlN+\n",
       "VewyJEwg/7wHHMqMcFTut8Z/EfCGewT2SaQ0eHpEBe+IGzpcrxG4MooYzpJZAUxHG0TALJTGgO7l\n",
       "Lj20laU8cAbtS3KVqwbwgf3HtotZuZA6Tl8q1SW1TyQs3KzNiTirUeOv1yaO+L1AYJJQ0xn7iJ2+\n",
       "8QAY370phWjZoZMIZwQtCFX9/FjQufFhwABkgr9ycyIH6CZshISQVw+00PFkJwjogxRL1p0N0O+0\n",
       "nRU3VZqclVQC0XiObJQeY78I9GBFe+d2wjyAUXAfj9vfYHtZ7S7hXVqMo8FDyOFIjStSLgCZcXCc\n",
       "L1YKGgbRNwBX+/GckVxk4yRQO+zWHBWDsj8mz96eroRz+YSvyMURPneuXKa7Jt8t+A5/GzZe9Ahp\n",
       "QKGuXnJPw3ltrRDU6MG58WXIgrFjBVP1XYC3DObU0PV40UPtGiRlRIidjf/nMZABeSN97dRP7uzc\n",
       "jJ/ydDJsYqYAaYeFgSO0TLBqSwZhCRRRq0av2je7uJefBfw/FDQNzAWrEFSdogyMDp/KNEJKNoaS\n",
       "NLAGsJfCBuFJkOJ6BPRKO+tZ7qzf3WX3P/pflS8Gel5CiFA3BU+7z4BVL+Ql98zof4j9nsB65BOo\n",
       "EMfXbu+VVki+WY2Yjkk0gI9o1QLLMVscPH0H1qCzxKgVzC8YQmdYvMHL1GDYKo0zd3uhJLbZ4eeW\n",
       "0bzcG4KZGMsXKloxEssem4WvjwbZlP3FxCoQD0wQJNWF2/GGT8fCqxvzZZtvaJ7EPuDMDKA0835f\n",
       "coNvBnTqxXjFNbY/oR799hgOX22s6GPYZ/ftpcJXZwS/Sf3LJDD3TS8xCt1EhYZb4wTkFGwYIIPc\n",
       "PY/OXB/D3Xs3MWUkOc8/Eq+GN77cL9BrX1TRgiPaoQf1/s95AXd28KkHgtNTKiC49YKVYc7TE7ok\n",
       "MeY/9ungp+MIX/J7iIotrBeXfQiXND//EHrxA5Mgmgy9l980741+DPXc8ybxD/DzGw0Br7RxaEt7\n",
       "ab7YhJBh7FwcaSAsuVAhjKJ2xJ+KL0rCU0dGv3Fw5N4JUxeDlG6Gx38ui3gst/o07bWa3CEc8Da1\n",
       "2d+HG3HXbYdBssQjwjAltNDNswIlytwjJ7r9dozJXJUHxmfYqoV3O6es3uqG8gsj4LRqTsDTq+GC\n",
       "sBw6cThOuZG1orUkNlmfLZdbYId2N75AJZgKsUGFcdRUDS3cExReJw3IjijHNxjAg1041cDlX/kh\n",
       "NtwNrQxqy5KPXBe7fQbUYe5qSrojxp/GBoCnudvWY9L9rn+Mry9wiBosmFwy8EmX7fRfyNmXjMer\n",
       "809c7gR4ePPUAKYV1C+/ftc5IH9CeQ4UlZypb7aH5wuGBJ++CirNSPtzutcA7v/Hp1V0rFHitPc+\n",
       "2l0sMqMAU3Qg7pJSoyVmpoCEKGo58ox4phIbfthBa7VJFTWyfLIAYqMee377sJnhyyqPhB7GmO30\n",
       "UqpKFTU8xirqudY2bl3RiDRcCteBI7IFkqQdyS7ntsU05qzSKQ7RUEPmKz5NJforQpsRIR2FAbaJ\n",
       "aA94b2xhBifvXDy3wyuM2km9QGLS7CqW+UU4ainpk7mnALl6mUYKCN/y5eoPci1a4j20kEdowAAF\n",
       "C1DMqXynm89IZOQvlvVFMUhAJRQcT874DJ/nS0tMfC4HIsSuohE2mv/6Du1/HeyDcqQmJ7ID6p7t\n",
       "Xhy7R9Al9Tfj80xQvu+qxlBWbMa94aFuWKnukUI928OMCpA2ziJvDuBKJB4kfyV9cERdRDdCXmYJ\n",
       "gFIq4lG37d+reLWXPvf3uExpl75LyOJi8HRKVLRpksJ9fPOVcUxByDKElN318avoFOEMKKQ1VWdV\n",
       "vERKjgLwpJncf8KUhUDdArek7PHkKBUwB5VWDVcQwlpwGjFM/Ka5jW51p27eq4MZyWM+oqlj/O6Q\n",
       "ND3pCNg6aLa2BMPueukdCeDHxltY5bqAvs90Cd3X1JcqqD9WOMi4OffPWQelFR0/bnV886QA2NOA\n",
       "X1F1u1lMHFyM65zKwpU7oEU0L4CCmlEPehOPZD9KaeFqKtmPmk25Zks0H9dUubSdC+WDKO+Cm3Mq\n",
       "m939sNG1RBen562DGR07/g1FJxeG73vUPKo08X9cablv2HpNhJFcbY4tqklXdxQAjBEn+ZKIVmVK\n",
       "BwQgBbzyI1e4r7aUaXobgBq4VBJE4pc6jlK3dUd9ICIqBMy3KZXI+BZY5CSr9BCDcmFhQEyIqMCE\n",
       "oiFI/THheFh9Olz96UAkKboVKZ1aSl4lj2jpJ/VJRHc6TW0q//4W6BeYG2Uzhx6REV9tAV9XokSh\n",
       "PCKd/LEnskmyy3yuvUb7dmaftstKjT6UXcuK5nbC2jwT4/AE3H7fCtfSQQad+mq9YQAhpglf4muE\n",
       "G6m02KS4wvmfk71GraTJPcvsiyO/Ul7g2HLg/ZSO0qs/7allIma88nRbHK/Zx3hEOwDD6LV+8VdI\n",
       "PqqoIs5k5SX/5hSHM4SXHabfP8fEsF6uWr88R1IALr87DxLH2vzQ89j0vrV1Bm+ESAdAA/2k5wBn\n",
       "4B44xhD4zOD0HHS+g7UzeGjiIhEDnMiRY5azFP/2QGvwxeW0xjvWq7KhGO4SuyDEXvk1osVtOSju\n",
       "1hSqwfcBqX1xuaCmUGAufduLSiPJkIj362JBOcflvmg5emo0V/6DD00xe5nenC/N7DTXk2SI1x0X\n",
       "y3wufBeDqgqHjGCdaYAiD/RxbdMF2OJsU2Qo5r/li3jfOv1Y+btvPQbjZ/sJZgEyqMIpSyYiy2bZ\n",
       "S3Q6E1E7nj/uXbRKYmAMVubXClKtckFVm37mV8+FfZ8mwpxwDFN/vct45jTlOL2s8HxfQAEXQwX7\n",
       "GKZWBVpTj86I4NvduQ+t3VWqV1b1GO+jFR4ACn4Q8rqy3F3q6usXXlsf+UyRBssLLL6ydOltUstl\n",
       "sg6GYTNyaK7BPbsUwaTBbbhokyWz/HWyoHjMi0zzMUq2kGQZtFzOADVE3oz+CrRT38tkDg6SltVI\n",
       "+jEUpd6m++lSke+bcrZE4pUmMkjbNeldcKryIpE5YPlPX/DgTXhi4WXhaP/o95uXrMOCrgaW3D5W\n",
       "+DCl4R/nsE9Wobti0Y8MXgOBMyD6NXpd2GTLEP2sKcVYN5mtNMZ90e/RbJXz9rwnkbpOyYrJtE0V\n",
       "wX/XdFGd4UWFuTsFMfvYBN8deuS9Ew2tU4ov49oXzMsjfqnPmc1pX7s2RCiTaoRrNfBFe0jVUlD+\n",
       "T1Gc5V/VuKsJEn3tUfl10jMenOlnMHEUE6x67Q7lQJSS1LkNbROqEeY36ZvJFsxARWVBAQirqNYi\n",
       "kMQPuuKMFb3+NZk0hpkIyICXdkoiyxNZg/qoKsn1arbT78qjzIgFl+v2MVxNDUDRQiil/uPE5fW+\n",
       "7eG5h1/lAqc22Lc9Qi3u38vxnsh6Wm4+n/zVPnqNzJiV24MJI8Wmgal8ehwXBihq6aaH1vuwjtHJ\n",
       "XXa52tfo8mlXpJ1Di++ioAuCyJPVPWniv7aqBmNCgpJjO8ArB8HdH5Ae2pf5XHbVSjFKqhcijvQT\n",
       "02qLiCQZXli6XQNQb3I8XAAKjim6VljQ+CzEXHLUlGE7d2eagxMzLVwWipZz/MbvA8g/fekl8G/a\n",
       "3zcUWmN1oAbWFJQKkIvTUNaCiudsU4gC00xphHvSjNEpktxSQybmf5oOcTVPysehKf+ggv5O0dfo\n",
       "+L5jHQDeatqcvgTayRnxzv69R54WTNlTZ3AMvOpSSaBX3QAF1cl8uCau7NheOcyNsb4FjFgwnPJ1\n",
       "TfZoJnuVcCk9MPp42Rb99e6v3eQZQ/HBDOn2vFpsUN6Qc4M2pe71t7ujbQjHTzWp4rg+ozSiL06N\n",
       "va4FVD1XxZtvjOpG5+2prCzLrtC8dK/5M2xyrKgpderUCWXNeZV89J7wt3YyeKo0G3iSCzIjsX+7\n",
       "oPCIk+MxTVnbJCKSev0VqOaqXM2ks/lHo4kQ6ZDxjVzAtEIFZcMBE1cwvJDB6aQJtvczpNsEkkJW\n",
       "TYeJ6Cwur/iTcKFU2cH+i2TrwRguzL8yMncx5bLj90H3XoemxEVHOah8bWMEZLC0BAa3LBk0WD4t\n",
       "T7Fm0ptA/u7PiK62BZE+ppsgynOvGUdDkNCHDnhvfFnPVCvHqKB2WtOjgpSG1jjTMnzrJQJJJYKp\n",
       "q1J/4Aa6Tq7OuEEYPEjpO5iAXCGsikPDEicEWPhmXz7L66jNUJ0N6jAb2F9FR+7R92+De0Kj2Xuu\n",
       "c9w6M+xLnl/iUrKPf3EWaMKKhPDD8KC1NwlVOR+t0Yf4BuUsT4A9bCos4M8I0UZrVaCezoVKFXS5\n",
       "0i204hW2QK+dZWH/qP/1vQF41TaedVV86vHCQg5zTbFvoNuBz5eWlfuRzMm65Mo3oZpnN4Eywm+H\n",
       "YQj4PU1f8Cd8tpOHE/8gS7w3wzRh7o0EVlizWxqMlc1sUl+/7ofsBvuKbFH1vAGjtaJStqif1AhY\n",
       "ezZQ72N/3oDGbCIYwaBExve9L/WKtOdn3PjW/6zWkV4ZA49qGSTn5Sat8WBMXO/W5eNneX6pABuS\n",
       "RlnxdLeefot0aUNkWYyI8yLgAuhSH8lJoAxz3cXbusdpgoWj/3nwvsLcPJtKhzdh5wOPlAppm3eL\n",
       "n9RKbWWjZsgUtAzUyg7P/deLNRDASAqnNd5l9U96HViq7XrwK21Tgvf/SswoGasYHOxcsnOEzAXF\n",
       "bHBOILzdkPzEShUUyhZPpZCHywDZu+/SFaT4OhC4RTB0tnk73wWgFGJ0q/yhyP8Equ/dlf6VQoWO\n",
       "y2UaZoXVvK/LOj+kzJ/QqJ3GMC7q+DU5IfEaQnmT3Y4NtNaHZT1re4/Tl4ETrktHVOfAAZzgaw9z\n",
       "+lU1xTPc2poyqZml1yCPoGDUHHltMLSfb4yRJ9cdv4k5H29Rd/8IPXd2HOj0T1B/OPdynAIDX9RI\n",
       "M3YLFfDpc3GcuhhPFOu3D/mOiJfKFNxDHs3o2SLXguQo/btkG12BwyGB9bibZtAu+S03tH3JJvc8\n",
       "3iC/A9eb+/VTLxEcaaBson/c4iT07vHc1l7kS3JiYoY0JHVh8yR1lN3DLOB+4yEPw6nj9xfzr81C\n",
       "ERAL/pW1u+dZwWcDXHXaRxLNjpHPz1Z4wXrdw9AXi5HqojH4589kb0yegS6oiuouibaF55uX3Sv/\n",
       "//0QpcrUXIFl3/zeXLVIulRf4McLVCMmGNKtPmWmX9oUuq2/eCfuYGEa25//cbH/tEj/Y0/3tVPV\n",
       "xLhZ8vZRi+V+qNCVOxVueVy4OKacXRCcLmADBLva8k58Ls6mM7ISDeSkcL2/J3HrVna1gccgri0u\n",
       "Q8TXvD8CB7RHcfkRkxnFuMy2Mev/DRWEHDdBY5R7/6xvuJtxizW73nli49NJooV5aJOAJBlK77G8\n",
       "1oqo1taWKQz8HSmpkSGEEJHEVcvq4w9PSjzbJSlsaPhzQvPsFf0UNWXfDkCQkBoHUR4IgbIlq3ho\n",
       "NyNtUfGVEkrojGYw9/BU7ctTi54eG//+hCcEjdjcVCc2L3HQzZohVznxRQRzjjbwgGym9L9REU7u\n",
       "y6LiFHTD+ezoFCwkQWHG0VODnENvanzmLUKjWpJNoa8n3sGq91arTLpxctvhUkec/wdo48mam5T4\n",
       "dwEGkp8xZVt8+HVqGWC9yYRFvbStKbwiuHwH3RUU7U0p7cwmdNMj80nDxweWAuV8CeppYPvkyfct\n",
       "7e0tdori6CT6NQM2qXvE8t2j2XsLm0zRkC9OvxN0YWKLIVe+x/OHRPXm1P+Q7iJ8VPJCIgxGL28b\n",
       "wuCtB1Q7FUWwj+6SLv7UnBmXHjPxe32uSoOIQhHAdULHk5AdY7/jIrtWqbB6W1eUQ6F4XjX8/YhD\n",
       "ZD8LqovUHD232Glwv0wY0C9GtSme92SJyjXIt00tEQ2QiZ4+eDMihLx9a3hp3epaP63fsu/trPVU\n",
       "ZORLJWCs3f6NsqFD4vKqCrN8Uj5K20LuwQWXZJ8BP7aaD80I1LdrU03xRDSGCTNR0uEI6Ly5WHSH\n",
       "1tMFUoAhrKwIqofzDc33Iq9QQMkOlGIHyY/cP3ydtY3UP2qVWoBBOLyYwZI6LBcUL3RVXqJZvfY0\n",
       "dGi9yWv1q2UBHxeI3fs9/wReoX1PTP/mu3v7X3pcqbHZgwWgrwKUaVsDzr84M21o091UJVi6aD+U\n",
       "Qm3o9b+eRs4YDwfoxbmm3qtTy4MqnigHXnQheNIJlmnPw50BA/OZ0rCqstn5KYqcRg4N81NgZErn\n",
       "7RwQbBjbJg3UR2GPiuqyGWAPPk3JuTSnR3RuckxP1MMyg6QSNE0c25bk+U9N9GYgRS0yv7V+pd5w\n",
       "/6q1osYji+upheXIMzoWMewCWvrtk3vuSlCj+w6jJP7ziPPZ2VSC2pPaM4jOfIGZD2jmf85k5O9k\n",
       "rFW4/GAACcA9oLOiyknuOOp7CaTkCBAPDykLgLcqKaz8qWPPmLSa4BdGi6x/GqCwF4dMPQGDBgAJ\n",
       "M6fd8qlcCfboAAGUus5F09R/gsi2WTttt03kTsDawFw44HMSkJ63XBJPwZV8nrdBVF2s0e+ZZctE\n",
       "kKum869TwgLAGEJ1ltz+3k79IyhpuPLcsAMrKQZ0baNtAcBAOzdWD1gCBljbfaz924gIqUt0wXoi\n",
       "gf1JWt0090svaLp68PAoHl8Y8MfW9ghR5+XSCAlrTRLHtNqm3F3JHA/aREVc4o2r8wbaqiYWklbY\n",
       "RES63ekF9NO23ou7zdFfadNRW8BZ1+jO44QYAZkyDtHhJxfbKyMcIKnJyX3a1GzHaGSruxpixLv5\n",
       "/r9ehOCRFRWPYHoh0RlF7Prsaff3FUuv7bBRJzoQd3LOT/KWN0CyEGeClroTJ2jkm5MeaT5PfAFX\n",
       "jY44uoJzz8B6HGBS+DiraCIittJdu0fdzZ4VlOnmbZbfdKSiw9F1RPtpBbQ1Oy+AV8ScGy4GgtZm\n",
       "ma210fa0pA5ig//wejlgGrO6ADblWMvyIGxzRU4hDSKTjGjNFQIbGirmtsWxVZsnwKH83t9s88+p\n",
       "/dWZ6kW7VGyvcrQpfVeUsZPD1dupjJYki+XP6K6SAgYcDuSCH2CAqTiFwGWucC9ot7c6wox9BxRa\n",
       "1pDn/nUepOuPIeN7eZWs1BXgkfUiB/J4CxdC8YP/AX+c31IQS/xivHEzBcqZeJRTJ7TPcKGjeNfe\n",
       "6eb7KkLa0GgN0f7hZlTAsuH6iPE0n2LwkQCuY7wohkzuXR+hvKyeGFvNn3WIrPKNJgLZE7g8nk9X\n",
       "dSaRNmKvMjMyaxxbQDr4VSqlPCTBefQJKsUXr1WqlkoK4kYRu8PJk2QJ4fu4xxa+Pqe2Dpx4PC8Z\n",
       "tqqBHILp/d9YFWhp3W8N969IQOm2gREdnAvIqFeeYqWaLbS2YEB29MT2BhjSEAqL/WH3ZgH+22MJ\n",
       "v2vQX5YgEPEg2X48lDwLkCFRKvJWbp1x9iQJlyrai+yih4Bd7tPO15ptRdU8DFAn+cX+g+eO/cy3\n",
       "2MHKPa0O95LAzB1+U4xYILtybhZWIOmN2oQ28+A/M4uoZ/guSqt8ODeKurVl/sAwbGaaCB9i43iR\n",
       "3u80wiRTSAdijEnTjbYWQbv1H+G0GsxGF8/BETFysk77AJaPlLHkSrjzUIel/36O7+Wm01QLlMgt\n",
       "W76WKPQpX5vprvR7yYvetoBLcVHLWbukCNChZEfJKnXQumvQMTezTc6ydh02CUDhh3fvLTZ8FC1y\n",
       "40MsvRzGiaHxC0ktKOUwletA4MrJ6wgIRkmm0IkWmJb2nvSNDBSuGzdSeqBa5qY+PaqyencA6wSP\n",
       "isO6yZuhyOhJ8xsz8DTDEi3qzoZfWf0gfdV4UyTVqKrB/cjfcAZXETeZmfex/VOPDQHSu+yDqxU3\n",
       "I7cinIgAogXJdoaooZvKE6/mM4RM7xjppMSJnlSpgxMQuNrHeaAtQGaWtaXxyTN4AkzkghSb2IQd\n",
       "/KerZg3e1Y6mmJSsjx8lIzc+KU4JZD1suEOEwySyCg4N0TCCxFuYxpkL722LyK7EJjLGpqHB4fpr\n",
       "qpnpj/JI0vM9llygwg+z2Lu1F2HbaMriGqL3n0xhrwuDVO0JZWwmAIxYH2YR6M/WwoszP8mMNX38\n",
       "7GgNYCuR2C0MipgZx9G9UNeRgSoduQhy2GZPc2ZI4FylR46eD3F5X5PLyi/PGv5JSFMS4+kDW7FS\n",
       "d/ThpCx2CV+Ob/IiKYo+rHmKuDZQsPS1Bi9G/vNZxUVvWgSp1XTgu+78YD/lxNEFFKlm1Om6F6Mb\n",
       "MqAawHxJ/vToLYX7KGqUFYzuu9dsONm6aS+isK9/IawY0x5YfSwvgx1OHLbjx58XxRRBU+Q1Y/5f\n",
       "tTCiF52g6o/kpHNDiH0MwPED/FyZzC4FmeHC1a4PM2+rKJUeeWz36vSsZsFEHzysWx6PsSAkJCnx\n",
       "z2cJSPW4SAJ0DBsbvH0HcWWqCtoJV3bTs+SO4pMYm4ZzNDCWBUdszHwUtcaVUnVISLAeQOziWSZs\n",
       "b/DLt2OrnbwYY0WjVdS+lA2umqLFJSUkvuUmLnbxWRrztlIMT7D9iVefeJBEX6XKDZJffcsr2uUu\n",
       "qtc/4/tcosFuLQ5CMqkJTdpX4J2/4hAfjzAzgFCn5rt25O+NBRM/0FcnHLF3EurftH3r/90j29mF\n",
       "xMo9HgvtGPcrC+JO/Ki32k4wDC6R61O0IcTdbs7/eFdNMvypM5eTrv1FJu9lWFhr6f5pgxUFz6NI\n",
       "fjwSD8tbZR5chmVvxoJ7N+p+gs4BumwmilkXAqPgwQclD6fy1vRsLcvLS5PGyndKeZ3fu6aHOJBy\n",
       "wuokse/EQbIElEYcevm1Rn9VVZGv2vHYkMNpjhkpMu0t2Sl0nDBgm5JKKmIKuVXlymcKn8fGiOkK\n",
       "p6j+gmQNqDsLBe85N/q+PSxqZiVQapnpecbHEgEWRoBfVIi+OrqnpCqowIpTkWIuXXSviQuf0Pac\n",
       "DapW0mYW4PiqHawkrZaAIDcGic6vEDZZlzURgqUKrwQ3qb3qJqz9Ai26Uof9rguSMMqfjXfD1MAb\n",
       "m5tIfbsL9bg9NJlagQrQmxDmgARxm16xZ5qVK7lQnyg1HuTcuQ8Lgt9gCUYKfmeI+I756uy4Qr3V\n",
       "SHMgwVGNgiI+U41Ip2z6ObL3QfSlUKCGuNhJoz2LwgqsSE/nCBp3gHT+fjVunLooyXIdgvyLUfn5\n",
       "enzJKmrDmjUfuxe1Sof71rTEb+rV7tWrWUK5KtSxNl7rSZCQmUf3/kRyZa36MZLzccADT37U2nqA\n",
       "oWQulYee85Oo3K1B6pt6eBv6axfNlTpAnNZ5AvnEy42VnRqZ2jy2x3mUmZd1xkTJ6upfVXO5z2Um\n",
       "8S6/5Htp6Lbm9vhlMsJA/1npkn2hkQgKRY20HyIDtlrZxtyCjndG3lBTPJQS3yRhyvzenBueMTGm\n",
       "gZhIFfh2OSJAMmj+TpiwjpAlOv6b7N+f3oK+V7n8zM1o9jHy5qhCFpmEtR8NULetVaJZWY8fgvUp\n",
       "8wUNtgleZptqWmDMxlGzubhi/DMDIy7fZgM0b+eY3zHpHJYp9FsQrMsLFMJUV9XZrWrU5kkgfyS1\n",
       "9YeOsBagp60b7e+N76hUvnYic69cmQGf/lo7YG8sl6EfLiXyCSG/O3PmmBpxzZUfTGR0dS2YcuiG\n",
       "bImu+Jo0W1QKOrrN9JTFkFLFfo6ICHRH96j20xxqssk9spgfjig8SIaax+QS5SsqFZQNa1x1IrIJ\n",
       "ET2taokpH1er93fzoBRZ/2MklqRPwzVTlb8VYUvTG01R3MlYUjGwr2ajUTcJkpr4uxz9LxolOur/\n",
       "xOYr8HMNgiDRV7pCcacsHue9S2BCfpDg/fuE7FEq9z6WHGB1y/glxy4j9IGRb3/J0gm9l8V3hLeB\n",
       "MOI4tRR2SLGpCRSDmy3rLelMe5WUdev1+XTAF23fk91ufi/O3lOHNBEgt7ISe3IVo2aDVl/VQJxB\n",
       "KiQX4PqGDqCVEIPH6Fgj0TrZ2MaATFx1Qgcse/lnfHFyeYfsl4XEv3vc3koxM2iWIrsJTN3lFjuw\n",
       "ZIqiINCn8G31iIAoukWdVCOrrTEbIYvu914X6L8e72vBKEt5BMsfGk47ff/WiM8Hss+4yv1LTHce\n",
       "k1SH3/gH00ooyuz59ui5sTEW927gEhThqwUTAvWikUkeZSsd2pQeLY4FcBTXCDetbmuX1XWMLhlD\n",
       "OG9jK6mwf04/Kg/ESHoDtK3mE+GBAxwi+toXj2N/DsJVyWZQCZiPziHhcp7ORP1Y1ncdZhj+pElQ\n",
       "exzGBWBr619ioskjIkofjkbmuKu+5d3+PqntmtxzeRW3h3fGl7yT74vyLBQ8G+RmTxFkhjVm7WGX\n",
       "UkjC2X27gZM3ksoxPRa6Bl4YtET5GCrXUv7s8uyug88qhEdie8Kq5tPW7/R5/y4p5Pn3C8wPubYQ\n",
       "i32gGKRU3qXyaLiR/+ySTDiFo/F+71BZKRQaqYn3Xt+WtHzDuRj7K02t32iGGWuNlIxgasSr/c8E\n",
       "0NIALmEAAAanQZoibEFv/talUHVepQAcXDPQhx1Pj8x21g30ksYN7Ml8Q4+fOFPmm5QZ8fthBUvK\n",
       "Q3DOvCadbnEB9lmnHkGKctefs/CRDj7XzLXSZoP+dgx4jn7WJbQbTlShsAwAp29CveIKhNob2tcx\n",
       "zcl2FqZiBDT3Vg1NV6ojD+UDSZO6VJJTyp3K0+0GKk/i8H7rX9y7vaN8Oa5xi5gzuuWjswA5G4q5\n",
       "I5RKqRsqGwfI6/NVi9QphTfIQJdEQhdTPfmScL8owwq3z0Tqpf9uHRlwqLtWAKHIUI/jDZsR1pY7\n",
       "ggvbe+An41xG632T1wj95piBxZJiIIx1qyoxToRdA4Z9kEiKUBh0uwcfUJkISxNLce87fE4paWa6\n",
       "djhvlL0rokmBfkvJc20YAGNv8xZUTgFQ1BFiRm5YPX8arR/4wxSQAVIxOKt7oc5CsoQp7BOz5rwf\n",
       "rThuzpwREHjIVI77FADqumrXbAZp0LX4fTvyBfKtlngl82RI4HBrJm9GsVTmYnk+FWvj9g2C8+pM\n",
       "YyFKGRZ/+clmA44/+JK/0s54S4aeSFyHXfpCIM+q1NgXgn/XCd3vUq9zCmYwsGrNJqE+NqGFdQwf\n",
       "fXRS1j74pBnxh2dfHeqOBoNXq9Cc6VO1+eyXDkss5j3X6niZNOiAP+zN7FkGxVB0K54FpRdfGo/K\n",
       "H1AjNaRWv9f3NWL+n+IOXe7+y9r7wQqRwMTDsIxbL0GpVWtVBft+4l+hp0KljsYaYOnCdNlV7y52\n",
       "P1i5S2Eo+802YCxmCKH5N+mG9iIRegenCJ66rX5NW9uDYWzcnj3I1hf6R3U/9n2tk6OoxRrEQRcU\n",
       "l85mn0OrlZ663Du69RIicwuWYv9js609T5MO/s1iMuaG7+6cs2t64+qQavn4ANZiuP+wF6JcQl+6\n",
       "9SencbfIb58dhfrKVRxGTdaginJIa4y6oqG1B8+9JAMqmZZyxZIkUZn5tbypjTcSM8Fhz6gNPYgP\n",
       "Q9Qy2LuKYBLBIb0cbKZiJWyUZoTBATarKnoAN328fawmpIpzU803equsl8KkeQtzmVG8w3n1unDu\n",
       "JhTWjKlef97c6KrU0FLQZvAcHlqQKhzpydSfvtP5JZX8ZjES4uABOHW1rNR/2iE5+R31B9Pw1iH8\n",
       "kfRV+UdKhGn2hA/lIFJXH9ihJQy1MiAcCCfOQf+k6CoEBFFn4qaJ2ug32E9J54k3W3EImcCOyCDp\n",
       "ClG/CVwTy5/9lUlrlfkHze8BO8U5+XVGO+qw9Ql+gyka8xt8jaxrZ+QkbDJVaX+CL10u0YO+fex8\n",
       "d57n+6xK/Hg5oYd+j7xqK1ZUxRW+rWoX7iJAMQ9OqxebTc9tyT362AKiREzA6Rrg+9n1RcA/+B7z\n",
       "PsyVHKBHzsWFd62f1o1WFFoQtFLmp5Z/++MmEtmyY12XUD7LL7orxOnNp4yPBpgxXxgY+uQxNb+2\n",
       "6tl5QzHzhrmw/1+TcTDuQwfyuJ0Gloz/vS4KTyIx/TjKHiyGUuSEymXHmz7DJO2z5/aQ1sOFbdXJ\n",
       "BIq9HDPURdUxfAZH0spSlHYWGGiXfyaMbRKtF/YA/9YOqXGkvAKvNktegIxYcwwKF0ihYrDekyc0\n",
       "pIzcAAADAABCrknM+V22wPxLZakzH2WlMKPwkSj+KCCrm7QuSK6HHzX8VsLGxragqpQLfbU0zP3O\n",
       "jTvakKduoeoAKagxVZCrmYSPMoqRjObtvpv2vgjdi0X2CIy6UMzuYAUMod0Y4v7zO324YHZQ1Rk+\n",
       "TcLqZO3Eq+G/PkqxNzlf5bJg2jKJHhybCqlrQzjf+AYyXYp5zpwFOTx6UsEn1228bfrNOv6yF2Z+\n",
       "yXIRHPYFRlv4sM5za9v6qWr1xSwBJTkk1jACSS2y4R9u1wy0nLkguQsOM7jxeYgNEosTXpDL5jwE\n",
       "0Sssh8eOSZTz3os5kR4fVshT0bpeFBurGtZ7Ze7YKAQUOJmuvP07Hw6EwJqv0f6V3YguG+j+0Fg5\n",
       "cEUe0fKW9VXVVA8iBtmUVGvx3xshvtWKjjGQhLPky7OUNf6KJbIqVXzrM+A2Q+vevVQthJiUZdZP\n",
       "foMTjNrjiVSTWXMl5iVKkcwYfGreSoE/Vxf8lkRX6mAWigS153JgIXdHBluTVrEqEYhmRzr728S0\n",
       "ds+uGGWmAPMknG/UmO3CFgBXaaEPWAZI5nefCycEWRFgK5elz+7HTHGjof2xgu9DkIQhlun60tJb\n",
       "jVIWkPKmm677w8K+9CMaeJXJMWN9w9kHNGUcxQ3lQ7Jljc9hGDRIUCykjQxSgTw++bNxIPpMBvJ2\n",
       "K0wAAAGZAZ5BeQS/ADMp3nAB/UNaC9G4++XEz8+JYBw8DJMV0i4XcURm/UGKv8e4teCQCJ0mFNrZ\n",
       "R4SKGRSKg5mlWqSGOPNXjaWuGYuDfPqCZcZuwGjziJ2LdTDH6DXzJhMmmhn+jXm61GGXaNoVSyf1\n",
       "+fPAL2qgv3kP5IvzrXOAg44xlFFZ2AbYbN8WAY2UZb6oTBtqf2A0XoM3tt2YQU04ACJW+ojkBb6d\n",
       "unNshcxId0E4YBP1svQHHRp/XnPuqzH0f9rqMFCOk8kRbUo3/78IQL9Itf5wok6pNuzOTTR+JwvJ\n",
       "dF46HcHImz9Dg7GRlHXeoye3iSzi5zebkfetA37tZUvwI9yH7rSA1ZH9+SDsCyk21S9wR2gSmrfh\n",
       "TFaZklEP8OjW4pv9y+5m+lpQKgqZ0nq4Yc5t2ly11agfH2+qP6qlBWHcY+3TPXUzPUbHylboMwis\n",
       "G/cgly7KOgoso6KIkzXVuQNiKeZJUDNvH4nIm4I9yHTbP8xQEeGgpN9+24CPG7O/Sk88AA0MOxWE\n",
       "zQoV2eoJMG19PQxQHC60gQAABSBBmkY8IZMphBb//talUF6SZQAHHU7RhFNee/m5ETtPDX3JtOYE\n",
       "PDkQGTqyg99mRIQ92N9U7geXHXeVNFXuivNcCYvGeK3Vnj5vQP6Y0dR7HU6AUtM0ChrjThMUFcn6\n",
       "BiBTdhqq0nB6CKmcId43X8pCZ2wFdOgBk7QEvwQFFmOnQhR70rqCmODplwKEOYnjIZof797fEUwi\n",
       "Sk5skEAy6pgMy/YJo6WJQIxFNW0pJ2AmeHwBysios1iZ4knzLA1ef5b2UwihrMVx/2AvRLiEv3Xq\n",
       "T07jb5DfPjsL9ZSttGjrbwt+P3M+dRluSkKUT+3GW8jQdHuzNFpqQ+/ijli4319vM5dVG0UOq+Ot\n",
       "dOMSJk+awatrJwdKLFomClMfmcqAVJKBd9lHOzcoVd0LTyRAZiGeCAJlIr4TBrVfD3hDpcUKz91i\n",
       "Q2jMp4AIXsIQB10g1kg6mXkZFXgvqB1fs8JMfSJkxMZJIOXkWJVBdUYOdjJ2QgVGqBt3jUaPabV0\n",
       "NaNsy3J+FwKIUpZHxk1OrCpr1qlIcSS/7Q3jybk5A+2azC1/FMR0CApz6swD3P4+3ninPCQOzUwl\n",
       "ZnoQNe4oK48RyBjGz7liyK3Ob0sijPKehQJfi2HFjBBLwOx40O7es1Rze3LrqdSkqn+G463X6Qxx\n",
       "BjSp92nSbUwANooybx/ZVy8Otu9ArS/f4hbZNNPoT0cEjtBMoc/PmmO6I08l8BtO3Oir6/iJaM7I\n",
       "/R88030buZxc1GQoD4HvsENB/XhAF41WbK4ZuC0WYVGkvQ85OO8ebi26uEqve3C4mrQXuo7V7WFs\n",
       "R5HNBoT1+wP0LdDny64IuVvrN7tGl0pUEgH78ooIh1DbcPXeZ4n7aO+htdLHV48RC6n5VctwmeWA\n",
       "Vs7/1OwJl+7vDDlIhdeLhjGIt4cYMaw53WLZWPFrc1XiJz+Vq3pQNAzvP2IBiTtiSRccROUx6Gls\n",
       "fr/7Dk8EFsjDKpqgg0FPwa17h3ctAfD/DZxrA7U1YOYA0rV7lPm5WLxNrIfqpP2fh+XfhV1qQa6+\n",
       "NfNk+ND7OjwDYWENyyQKI2mmTAud/XZ313zv5G+nNKm8cUxNYYX6/5Veh5C2tyqryq8zresP0+1j\n",
       "xnBH5OpozcfjMFVP2d3eLTsdiDDNrS9Gm9xv+DA8B9IPgXk8t6pyYxjqpddy3LegzBP6q3Ym8oAc\n",
       "+OIEVzZejkLGin+5KWtTpf5LDzlD2iqmjUVM/q7qaJEj/5SCYzKoZqQiWvd/aT9uX+Fb4Uh+Mra6\n",
       "z3AxyIsOzhqcP9SyyxBFwP6OECeiUE8AMBHnIQUask+x464vBQP1IsRA/Uf6JOLZ4KqEEvUyPRE/\n",
       "Fq5xMNW4f/FEzNbs2Po91GMGnGDm14KzsvE/FN/Xuo4k00/uvSnA5WRnH5Uj68nhADriyNagWmPz\n",
       "HGF+E50RUnrIk8m1QReiIdPRXsu3pZPpVF4FtA2AgfA+REI5GqUJLiDJX9gUWmFqJs0Nv5uEb2Vn\n",
       "jLnyIeRpIpddnYQTHHmzyv+2syFYWaggKn1AAEGZoC8axegbCU4EER8R12OygtY6nTuKy6fRU8id\n",
       "W3l6n5k+jcS5GPLnK6/IgbPcPT5sOH1YlAhLRseIYJiCB7Mf0zgZVW3MF3lQ00dVMo8Mm4yXLbzs\n",
       "Amk1FrYpHFc60IiTVmc+3vYYOh2zfuf+gmX3RKbHYMeQNeO9LgQ1AgYf+ob2/bX8AIqmyi9V9IVT\n",
       "9KJwFyhAsZS18sU7C62o02Xxj+KCAAABeUGeZGpTwU8AFI1grUAH9bgod+hCZgOzIXiOdnEgrNnk\n",
       "ariChJbG+apx6+lu6jFLxYEvkcokGUWJqmsCLLBNMuTDcUn6+FzPa7PR/WCZWqwk2Ab3Gld3szSK\n",
       "QbBmZmDouzlzR9tPOBeENAy2hXkAioPBv+juDVwOX3jlOlEJRWyHusZuz4DQ4Ikn5ykqt8AAieNC\n",
       "DMQQwWP5g+D8norcnkpWdDgGenOw/rWrd4+TX97Jz0DPtr1zFzzrykEk81mFWDjz4SqLqQPD7Asj\n",
       "MTUTRq7cFvnPId6LrJWCni01H5p3tv9kddrt1HagA4AXIUS4Yq/Zyx/dQyOXx9UOiVoN5rRlpOOI\n",
       "ysdA3q5Z7PMR2LnhLrX+QALHdXtvsRGLrzz/cKSjHU1Ir09pWd5V0YG3BlG8U/wgPhkoENGCO/dU\n",
       "NnqYtEfgvlceZ29/NmowSHHLiQBqPUEe0JW36aFCQ9iUXCDVtn+f672Eg1HOhGw9WCVpRYPVJApc\n",
       "lRYFAAABOQGeg3RBLwAyu8N0ABNaILcd7xcG0ROQjFKZa6dIkjO2N5trUUG+i2xmRyWwhoqfDGrQ\n",
       "mBWyJMygor1AwfAqUt2LDo1NHAAGzHPC07zt/N+/daj7jr3SS9l9yeOIc785rCjVrW/oCVPtwjgt\n",
       "D0/uooQlH/LvDN2bc0/TiywarJZFhXb01KlFvgExhH7VjH+TJMqGqHyvixYnPGsCq5/svYfBbjmQ\n",
       "Zcc0lZtcKa85fntw57kkvfSl5BsK1I0Xwx9l1JqIn93/c9VWmGj/JBGq+Bwuz1zuVKNowx/sEZiX\n",
       "H5vLOIpTqKwDncxRPbKoVNFWRrMBFAP8aeh5msU0yaYFFhc56zZOlzG6KjGjrwuf1JQazV4PQt0K\n",
       "yrFNpI7f0rq/KJDxurW+PmANxg+04itraADfecWm98g88m8AAAEEAZ6FakEvADM0izQATuNqwXpC\n",
       "E4FZ+rvn4sMOAs8pkmR9gWNPwp/zF1xHLzuGMribxa7+rTVd1QYDgPKS7BhoaOqlYDJhmjAbCLzN\n",
       "9O3Tm2wUj9PQ5WexBrIbE7ZMM0+3DqjuE8ZpNU42N/6lTLsDYmy6qFS0D67QQqmISjebc8zsiqWE\n",
       "AoPYGoX1Yziwkyb7v9USl8F9Dki4MkXmNa9ST3SLaDWfd6rJVilhdtLthnKreaodmd2LjdSeMilT\n",
       "AQA5mjcubfAN0Z2ph3BhXTdON2EEpYb7Ka9Z8zOFkfwsCPqWz2mNMvUPk0PI0t6cpFBV2Z4S+2M/\n",
       "ZHnW98RYbnorQRcwW0EAAANDQZqKSahBaJlMCCv//talUF40u/gBb28xH23+YvfszGaJ3gFeYuxJ\n",
       "Tx8M2IXMDmvKyqn5yqk1GrGFw0yR6iqAw3skkiBoR7ZDQU/Qz28S3x1luXKgmt92u1Qy3+pm+bS0\n",
       "e5b1EAAACwRFmqny4sa+9sVArsMKJ+/BkKbUMmOLDoYjhah4qQtOZIrSk0rIYzSUvQVwGxrzD3/k\n",
       "hgS0QT3RwOUDPGX5DGaozCb8jc8fosNfWeZ2trCt+WDUq7VnL4gYT86rGNglccgcau27O3OTAPZI\n",
       "Au7hFKSQ16BGm2S7c3FErwuz0Vh5vyKptC/c+tKCyxHEHkMlLEvrRiHJ3TdgGfn8vjjrlXJpT2I5\n",
       "8YBPyQurmyUxuy9rp6DV8KqJxgJmj/Df8zkrjdOKJDmqILf/lDcOVS3Hh4ppu+z9WEjrxqn72l5v\n",
       "MS6BMbxdMH2pncoZ/2sLu2bwkgr1NcxJRi9XPD19YKH2QTUn3H83wSzo7qgyvseQ7ttbIzwl2R1Q\n",
       "9yHVtkPx/+xkoQ1jrNb3YbONPwpYxn+6uJ6+ZB6YJTZ+B3ja4tvkOxU4DZZSrSoFkIupy1bH9mGg\n",
       "67U/CqKzncM6bfe5X2YwHPSMKtlu2rIh8V6SXDfCn+qR6MBs4YO7mpiVmJkMdbBKSUpwHjedm77Z\n",
       "1SrgaozxFOnzZKw8RQ5g44E+R0GyxY8ggkqLuMAb5d+Vp8nQb7+oZsfmWutFDgJ4ZNuIoRzl+G+Q\n",
       "X/o/ReDpTBhNoNnVO8CYM7VUhpp5zhwJ35Icx7HkEfKIycsTNZvDab2y+mPNk7eubDiYr/eI56bO\n",
       "GLPwxv2s5tqMrkzANdiWNI5sFaUSz2+qrYyi4BBz9e3X0aikvtoxu+Ski/0mo/+RYp6gsVw3Bieu\n",
       "JE1XoKj+fWI8Q8/hW+HBGUAr4dzxhkk98LIUBKXDxYzycKZdZ2z1EGVIi48s/693wsLEghG1ZUEx\n",
       "zc+PvEBYxk2R+AF5Y9c5tw+ux6n8iTaPaSboaU/TqUC3rcjVtsaTdUkrX5qNWKN8ifGwG2RSlhQf\n",
       "MOUMO5QEKPpBWpoEfDP4jLnHcCcpNZk1OZiFJNkFEkKsJ8JgdDGhsrB2vdg2C9MVQyriRDjpxwAA\n",
       "AWdBnqhFESwU/wAUn+cjLhMdFSfRNwSkgAEQqJAFs4JK0JQr8r7uvXfZ69xELAGsI2cHr+nYLNKH\n",
       "NNMXQklu8v8Qmcu+eLwPs15+kMxb8YmZb0xzB0XO8NtOLU3qSjWpKkCDcq690mS82+qadvyZvYfo\n",
       "6yWCS8rXQP/cYZ/xV1gkJaNzNrNi1J1yeQNoEMjaR4z4CiLZwR1ppvu4X45K0pFRxw2FOQzIic3v\n",
       "lIxy0avtwIFwkn5isUZWAkZAfkZn9Vafh/IqPm/v4YX+41T7vfDq4ikWqrSVFeTXSW2xeYMQ8s25\n",
       "af5oYfzrrzRpytuf9rpFYz8oBQBRIiw6chNA69minVRLWvycnC4Zx5qlqRmzo9fxtMhYg+MRCbAX\n",
       "xEkHZyIjwDLcPnGNCyi35gIOmPLXC7vyXCQ+0V2n5bhA5OdH+kS5z8r3nfLMsjJjCXjQRVtlNHKZ\n",
       "d0NkEoizgndFRjMjiBuyPZGmjAAAAbkBnsd0QS8AMyxkoeCt9Y2DPFwAIVR9kErIVSEbnTjKn8t0\n",
       "5H7mEeWeh9GBwOPBs1dX7gg4z0pmpaLtOgpV/SPNZvJBabL6paQSNZA05IlsTx7Xs0TGyLL7jiZ6\n",
       "wj4uCIxl08145Kh8HaHTGDQ1+x2rcgS2ma/SYSPUFZhcyZmo+xSXcJuiP+4Nb2Kr3MDnh+GtAXtU\n",
       "6xhBbO4eVpUbeOuvs5fPikbTQFP7z/iR/EaIP9fyyR0iwyyu7ZuLE9rP+pp5Q1cVuFmtKsun381i\n",
       "z6+4Mi024zoBACto/kUmDxyhKJumLbGhFwwNrENgxg3EICSQRXT3Gy9BoekkaeRvu029ukhjHLtr\n",
       "+5H1XAQUlSgTDAeyVwioCsAbBC1Z+EPv3pnUZA85fxwbns8m7jl38d34v2HxYbYEVimnQAdYYM97\n",
       "J0Z8xY9hd7uSKIoXrERMBq0DArKnTZ0xgFtQ8IKOPY/8Dn3f1ldyYgJvmFHhqBuHipGHdxdKa9Nc\n",
       "zc9dQvfJlOsg0xPz40GtERmvjeBNzz0aYLMiE+ZWVPC7IsyNbGVVoeqFNxVKgryLTGqHEHhOqeA6\n",
       "MEJpdfDBmVUAAAJdAZ7JakEvADM5mNRAPz9bFABEKPsglZCpbYvSLFqO1VyOx8ekuw7hlWUU2NU6\n",
       "a1yccTJHW4DW5H+RGcLslR55g27wrk/+uhdzk952ciKgqvXIKkOwLu3tENhb54GuqRbRn2tRn0NO\n",
       "+u38d1D1GjcOT9L0bZiDB9NDSqdIHD/lAEAagKzlm4gRi41Lfolsa4g6B0SPDxX5bwdGjBsJeMRq\n",
       "491xK7ji3TeIG3ipZOhdqjwMjY7bvPnEqfY11KaBNiICr7QMZEhgrgXh8qc359roxPCLxcT4srXx\n",
       "lUtjRoBPbGBcBk/XNA1spctrhBb0wb4U7lIFuLQ31HTDuzjD9iJAeFodgpNn3KwJza/NnEyHuZfQ\n",
       "fJLFU6eXmroWoSiOf+gglhNLIe6ewBugxxN5vXh+UfDryfrs/sCFxI/sQbW95dAwC6/JdcyIGWiH\n",
       "3xDTemHvx9nw0fLUyrFzdYrdfUo18/6zPgYn3c3Vg42k3mF8PUO9dDp1SfWYXPAPW0Pb22jvh6Tx\n",
       "w7aCsR7HTfxjWyyyTM2zQ51HWFUT1tZJ+uN1YPJNhX2th0HKLmJqVj7TLG1iY8mpMwmEsRXrWRmt\n",
       "nR8FbCCjMdoGxILeJxAADpKjZxToyLXYjRe1fvTYvJz2al3gfJHI7ZNHSfEoPwgN77Iqf1F9M8wb\n",
       "o/oMNikQFV+6+aQ+vr5WM6lnfvBev24HvFqF59LxzcHNyhSuFCd4NslZWalDE0PumliJepg+7Yva\n",
       "Ln7xoWKV8ooJ0KRZrFFqAbM3sDj0ImnwMp0z58uoMiueqLCsBgQPEFdJrec3AtsAAAIgQZrOSahB\n",
       "bJlMCCX//rUqgl5yLxAvcPy83ABtWjXxpZCuGr+uLFqO6ffV7/GUZmSBNSe0peEOdlbYaFilBm9/\n",
       "6nL6ZgQrHQzK7iPg3Vngu4FhBMZ/dBVHq29ykm0En4i4eZvf5MIT5ew3kovalnnTgsZE9l6ip+H6\n",
       "VosIKAoX/njYxi0rzmkKd2bzDSxX2gNFbHm1mfpXkkqeLFBAGGkexsNGkNXRit/kQs9kAIdiqK6U\n",
       "RGz+zm+wA7h54NjL90iWjKoQM1+CBSU9uNNZYT9cwy6+xVBQMNWeWmyWNucTYm6yzTYZoeeq81hi\n",
       "MBTaAzYb+fKxjnjCrEBdflOeUAY8Qcsy4NK0XGyNgD5EOacxyPCrBF8d/cXYeLYmKDtfkAssM0DV\n",
       "XBYu9uqu1sO9ZYtGD1tJ1CPQO5HS5CmZN3t2YZrjSS5DaQb+Zp9tQlyiv7kqjfQR9ds2gPB8ixxv\n",
       "4Q3mBXEBh6gUjgAZa7HfrMG9mB6mjrCoIpgMvICG53p9lJ5Cg6MTMHhZ9nsfUg5EAQA1Tk+uqtYH\n",
       "wlr3Wmdr5628I2lzFkxDOAIcsGiiKxmVlR7+FOQjgTQxZx+EEUQwMCmiRg0Z7elNR9to8BI16Tro\n",
       "X2eJWfd5pWuLvXSxd7jbal/MV7EQkrAGBQZxYALU/kfxjB5BnWLfC4x6p3N7c3SDAB3Dbf+tTFi6\n",
       "WKKTuryfySGIFzgx8jv0PBowkDU1AiAg4AAAARpBnuxFFSwU/wAUtBI8SuOji2xgwgSgA2mpcCWj\n",
       "vRw8JODfXXXlCy/jDaH3In8G06M5bFo/eG+cz19TfqwVhUAoa9D4ioGaosBFHtY4YQMQCgmpM8W6\n",
       "hkkuKCrCEyo9tnevY1/Ozstt/Lbk8Nss/L5P5+SHlKpWeqaD5Mj+YeZfFVmr3Qlfdlplfnr/d89N\n",
       "MpM6EvQh6xk1Rz5xA3rw0LrjGbi3GPS+1Hj9FCyxWhZyfi3oAu7Wv6pR7YzU1uxkP0O36qJE0436\n",
       "zXzxH0uu68a2IPEZuWUKZJ5VDDvCpyOJRpW4iIzj7jXVKLaBpvJGQzP2hEfHGynC7veeykDvU+0+\n",
       "nftAYop09Oblm/uxpeYKb4Tif+5JUvnJ9UwAAADxAZ8LdEEvADMsZKHlWTUpghzvERr8js0JLl7a\n",
       "JDDPphvzwAeCiCy7biK0uQZJDHXEymX7JtD8m+HDMwYqGJ4oP2sM7zT0aqnjutt/Akb3y29VCdMq\n",
       "3+/QlqckBJ8tBiihBtw0VsQXFChwN/4nPjt0MckBDek4e/P58TcN/zzo5ISuv1e3EB1ArZMnwo5y\n",
       "uU0y0xCXEvPVt7GtM2yXqzP5CZnzNnV6+sMYMz/tfUoDOFSNtqVhX3l0Lc8XU40LDr5ajkqJ5lDv\n",
       "GV9S/SyKXSu/hZ8b4WxOA5PY5vpBQ8wQ42Bu+l+lE3oIPnLubTjQMIuC2wAAAmsBnw1qQS8AHLn6\n",
       "RkZfr3cn6THSIuUfDrFVT8EnlPUvSDtBKwOmX9QABNT3zDq+n13RWcvhOIDZPp2j9KztVzL90PCz\n",
       "nK6C+X1fyRgBOPziN/C4BYpIJu8+BXIHINj0B49uPnQ6aow561s/K3YRvMtVZKoWlnCDm9ChJ7qx\n",
       "bRzT3ESRvFKG58bBFzXJkqYCkOyI3prVH60yvSUVxSV521fa53gfyZy9ld5cwjwKL7qsBzmB2D9a\n",
       "fT2NcLHJs62QrNsDRltLdfloFuayX0yYqdjQ7TjhT6S2+V2NVuzyFtnx6ttAXHFyCtDGrwRBfK8x\n",
       "UTnL1AWbO+MlJ+ddd/ygkiCiQ0jZk3PYDLdEcG0thvqmVI2icwKGi85+XCinW12EVZhRXVEH3z0l\n",
       "WAfXT9BTMCtjLYXGV144PNnW0G5KnKw34B3RZIoUL8VD7dzEATutzX9oWFQLxCpFj4NCVke1cblu\n",
       "JjvBf7MdKeZXAdlgv2lSUu/HSG4Qqo2zFSwGiBHntuFI7vi3nJ7+ySDmq4xAXQG3v/2q0cyiNLGP\n",
       "RUV6zzGEecQ5IATsu/p7PZEto8czJygGauEodHUhNV7ofeC57BoUa0X2i3ePKHl8U1YNfBtSfJZY\n",
       "6uCLRAez8QOvdK/aMHyXRrL1CUTZ6bBbMfASmI0qWvJgYHY3sSMZAbtdkrA6ubJOMzF1c2jOr8Gt\n",
       "TBvkO75J/vZIaKFfwFvNQJ3fKkp0vvwRWch2zAkcUlMbIq2sdHfFVXtEpXuY73qYCWpYplMSFMKo\n",
       "Q0zEYJrwuQDNUcqU9+J9cbtMslnzndx9g7FFZyLRs71lB6kzXQi3AAAD4m1vb3YAAABsbXZoZAAA\n",
       "AAAAAAAAAAAAAAAAA+gAAB1MAAEAAAEAAAAAAAAAAAAAAAABAAAAAAAAAAAAAAAAAAAAAQAAAAAA\n",
       "AAAAAAAAAAAAQAAAAAAAAAAAAAAAAAAAAAAAAAAAAAAAAAAAAAAAAAIAAAMMdHJhawAAAFx0a2hk\n",
       "AAAAAwAAAAAAAAAAAAAAAQAAAAAAAB1MAAAAAAAAAAAAAAAAAAAAAAABAAAAAAAAAAAAAAAAAAAA\n",
       "AQAAAAAAAAAAAAAAAAAAQAAAAAGwAAABIAAAAAAAJGVkdHMAAAAcZWxzdAAAAAAAAAABAAAdTAAA\n",
       "QAAAAQAAAAAChG1kaWEAAAAgbWRoZAAAAAAAAAAAAAAAAAAAQAAAAeAAVcQAAAAAAC1oZGxyAAAA\n",
       "AAAAAAB2aWRlAAAAAAAAAAAAAAAAVmlkZW9IYW5kbGVyAAAAAi9taW5mAAAAFHZtaGQAAAABAAAA\n",
       "AAAAAAAAAAAkZGluZgAAABxkcmVmAAAAAAAAAAEAAAAMdXJsIAAAAAEAAAHvc3RibAAAALNzdHNk\n",
       "AAAAAAAAAAEAAACjYXZjMQAAAAAAAAABAAAAAAAAAAAAAAAAAAAAAAGwASAASAAAAEgAAAAAAAAA\n",
       "AQAAAAAAAAAAAAAAAAAAAAAAAAAAAAAAAAAAAAAAAAAAABj//wAAADFhdmNDAWQIFf/hABhnZAgV\n",
       "rNlBsJaEAAADAAQAAAMAEDxYtlgBAAZo6+PLIsAAAAAcdXVpZGtoQPJfJE/FujmlG88DI/MAAAAA\n",
       "AAAAGHN0dHMAAAAAAAAAAQAAAA8AACAAAAAAFHN0c3MAAAAAAAAAAQAAAAEAAACIY3R0cwAAAAAA\n",
       "AAAPAAAAAQAAQAAAAAABAABgAAAAAAEAACAAAAAAAQAAoAAAAAABAABAAAAAAAEAAAAAAAAAAQAA\n",
       "IAAAAAABAACgAAAAAAEAAEAAAAAAAQAAAAAAAAABAAAgAAAAAAEAAKAAAAAAAQAAQAAAAAABAAAA\n",
       "AAAAAAEAACAAAAAAHHN0c2MAAAAAAAAAAQAAAAEAAAAPAAAAAQAAAFBzdHN6AAAAAAAAAAAAAAAP\n",
       "AAAqmQAABqsAAAGdAAAFJAAAAX0AAAE9AAABCAAAA0cAAAFrAAABvQAAAmEAAAIkAAABHgAAAPUA\n",
       "AAJvAAAAFHN0Y28AAAAAAAAAAQAAACwAAABidWR0YQAAAFptZXRhAAAAAAAAACFoZGxyAAAAAAAA\n",
       "AABtZGlyYXBwbAAAAAAAAAAAAAAAAC1pbHN0AAAAJal0b28AAAAdZGF0YQAAAAEAAAAATGF2ZjU4\n",
       "LjIwLjEwMA==\n",
       "\">\n",
       "  Your browser does not support the video tag.\n",
       "</video>"
      ],
      "text/plain": [
       "<IPython.core.display.HTML object>"
      ]
     },
     "metadata": {},
     "output_type": "display_data"
    }
   ],
   "source": [
    "# Plot their frequency\n",
    "fig3, ax3 = plt.subplots()\n",
    "\n",
    "ax3.plot(digitsBenford, digitsPercentsBenford, color='red', label='Predicted')\n",
    "\n",
    "digits = np.array(list(counter.keys()))\n",
    "digitCounts = np.array(list(counter.values()))\n",
    "digitsPercents = digitCounts/N * 100\n",
    "\n",
    "# need to have them sorted so they are all int the same order\n",
    "digitsPercents = sortedLists(digitsPercents, digits)\n",
    "digits = sorted(digits)\n",
    "\n",
    "barPlot = ax3.bar(digits, digitsPercents, label='Exponent='+str(exponent))\n",
    "\n",
    "ax3.set_xlabel('Digits (1-9)')\n",
    "ax3.set_ylabel('Percent of Total (%)')\n",
    "ax3.set_title('First Digits of Random Numbers Raised to an Exponent')\n",
    "ax3.legend()\n",
    "\n",
    "# Create animation\n",
    "animation = FuncAnimation(fig3, func=animate, frames=range(1,numFrames+1), interval=500)\n",
    "video = animation.to_html5_video()\n",
    "html = display.HTML(video)\n",
    "display.display(html)\n",
    "plt.close()"
   ]
  },
  {
   "cell_type": "markdown",
   "metadata": {},
   "source": [
    "This sort of bridges the gap between part 1 and part 2."
   ]
  },
  {
   "cell_type": "markdown",
   "metadata": {},
   "source": [
    "**Part 3: Logarithm of Random Numbers**"
   ]
  },
  {
   "cell_type": "code",
   "execution_count": 17,
   "metadata": {},
   "outputs": [],
   "source": [
    "N = 100000 # The number of random numbers\n",
    "maxNumber = 999 # The random numbers will be in the range of 1 to maxNumber\n",
    "base = 2 # The base for the log"
   ]
  },
  {
   "cell_type": "code",
   "execution_count": 18,
   "metadata": {},
   "outputs": [],
   "source": [
    "# seed random number generator\n",
    "seed(1)\n",
    "firstDigitsList = []\n",
    "\n",
    "# generate some integers and take their logarithm\n",
    "for i in range(N):\n",
    "    value = randint(1, maxNumber)\n",
    "    value = math.log(value, base)\n",
    "    firstDigitsList.append(int(str(value)[0]))"
   ]
  },
  {
   "cell_type": "code",
   "execution_count": 19,
   "metadata": {},
   "outputs": [
    {
     "name": "stdout",
     "output_type": "stream",
     "text": [
      "Counter({9: 48642, 8: 25777, 7: 12896, 6: 6314, 5: 3232, 4: 1596, 3: 799, 2: 405, 1: 234, 0: 105})\n"
     ]
    }
   ],
   "source": [
    "# count the first digits\n",
    "counter=collections.Counter(firstDigitsList)\n",
    "print(counter)"
   ]
  },
  {
   "cell_type": "code",
   "execution_count": 20,
   "metadata": {
    "scrolled": true
   },
   "outputs": [
    {
     "data": {
      "text/plain": [
       "<matplotlib.legend.Legend at 0x1f84ef3e390>"
      ]
     },
     "execution_count": 20,
     "metadata": {},
     "output_type": "execute_result"
    },
    {
     "data": {
      "image/png": "[encoded data removed]",
      "text/plain": [
       "<Figure size 432x288 with 1 Axes>"
      ]
     },
     "metadata": {
      "needs_background": "light"
     },
     "output_type": "display_data"
    }
   ],
   "source": [
    "# Plot their frequency\n",
    "fig4, ax4 = plt.subplots()\n",
    "\n",
    "digits = np.array(list(counter.keys()))\n",
    "digitCounts = np.array(list(counter.values()))\n",
    "digitsPercents = digitCounts/N * 100\n",
    "\n",
    "ax4.bar(digits, digitsPercents, label=f'Base={base}')\n",
    "ax4.plot(digitsBenford, digitsPercentsBenford, color='red', label='Predicted')\n",
    "\n",
    "ax4.set_xlabel('Digits (1-9)')\n",
    "ax4.set_ylabel('Percent of Total (%)')\n",
    "ax4.set_title('First Digits of Logarithms of Random Numbers')\n",
    "ax4.legend()"
   ]
  },
  {
   "cell_type": "markdown",
   "metadata": {},
   "source": [
    "This does not obey Benford's law. In a way, This is the opposite of it."
   ]
  },
  {
   "cell_type": "markdown",
   "metadata": {},
   "source": [
    "**Part 4: Test Benford's law on real-world datasets**\n",
    "\n",
    "(Add later)"
   ]
  },
  {
   "cell_type": "markdown",
   "metadata": {},
   "source": [
    "## Conclusion"
   ]
  },
  {
   "cell_type": "markdown",
   "metadata": {},
   "source": [
    "I looked at 3 processes to generate random numbers to show.\n",
    "\n",
    "The first distribution was uniform. The numbers were random, and not transformed in any way so every number was equally likely to be generated.\n",
    "\n",
    "The second distribution was biased towards smaller numbers. The random numbers were transformed by an exponential. These numbers were also random. However, in an exponential when x is larger it takes a much smaller 'move' in x to move exp(x) to a new number (with a new first digit), so the lower digits are more likely to appear.\n",
    "\n",
    "The third distribution was biased towards larger numbers. The random numbers were transformed by a logarithm. These numbers were also random. However, in a logarithm when x is larger it takes a much larger 'move' in x to move exp(x) to a new number (with a new first digit), so the larger digits are more likely to appear.\n",
    "\n",
    "Interesting law!"
   ]
  }
 ],
 "metadata": {
  "kernelspec": {
   "display_name": "Python 3",
   "language": "python",
   "name": "python3"
  },
  "language_info": {
   "codemirror_mode": {
    "name": "ipython",
    "version": 3
   },
   "file_extension": ".py",
   "mimetype": "text/x-python",
   "name": "python",
   "nbconvert_exporter": "python",
   "pygments_lexer": "ipython3",
   "version": "3.7.3"
  }
 },
 "nbformat": 4,
 "nbformat_minor": 2
}
